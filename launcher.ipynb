{
 "cells": [
  {
   "cell_type": "code",
   "execution_count": null,
   "metadata": {},
   "outputs": [],
   "source": [
    "!pip install boto3 --upgrade\n",
    "!pip install sagemaker --upgrade"
   ]
  },
  {
   "cell_type": "code",
   "execution_count": null,
   "metadata": {},
   "outputs": [],
   "source": [
    "import boto3\n",
    "import json\n",
    "import sagemaker\n",
    "from IPython.display import HTML"
   ]
  },
  {
   "cell_type": "code",
   "execution_count": null,
   "metadata": {},
   "outputs": [],
   "source": [
    "sagemaker_session = sagemaker.Session()\n",
    "sm_client = boto3.Session().client('sagemaker')"
   ]
  },
  {
   "cell_type": "markdown",
   "metadata": {},
   "source": [
    "## Run application \n",
    "Run the following command to launch demo application. This runs the application to run on port 8081, restrict maximum file size for upload to 10MB. Both settings can be changed."
   ]
  },
  {
   "cell_type": "code",
   "execution_count": null,
   "metadata": {},
   "outputs": [],
   "source": [
    "!streamlit run AWS_Podcast_Generator.py --server.port 6006 --server.maxUploadSize 10"
   ]
  },
  {
   "cell_type": "code",
   "execution_count": null,
   "metadata": {},
   "outputs": [],
   "source": [
    "#Read Studio meta data to get Domain, User Profile details\n",
    "with open('/opt/ml/metadata/resource-metadata.json','r') as cf:\n",
    "    meta_data = json.load(cf)\n",
    "\n",
    "studio_domain = meta_data['DomainId']\n",
    "application_type = meta_data['AppType']\n",
    "studio_region = sagemaker_session.boto_region_name\n",
    "role_arn = sagemaker_session.get_caller_identity_arn()\n",
    "studio_type = 'Studio' if application_type == 'JupyterLab' else 'Studio Classic'\n",
    "domian_settings = sm_client.describe_domain(DomainId=studio_domain)\n",
    "print(f'Studio Domain: {studio_domain}; Region: {studio_region}, Studio Type: {studio_type}')"
   ]
  },
  {
   "cell_type": "markdown",
   "metadata": {},
   "source": [
    "## Launch the application UI from SageMaker Studio\n",
    "\n",
    "If you are running this app from SageMaker studio, you need a proxy to run the application. \n",
    "Below code will help you lanuch the application after you have started it. Check the value of variable ``studio_type``"
   ]
  },
  {
   "cell_type": "code",
   "execution_count": null,
   "metadata": {},
   "outputs": [],
   "source": [
    "space_name = meta_data['SpaceName']\n",
    "space_settings = sm_client.describe_space(\n",
    "    DomainId=studio_domain,    \n",
    "    SpaceName=space_name\n",
    ")\n",
    "user_profile_name = space_settings['OwnershipSettings']['OwnerUserProfileName']\n",
    "studio_url = space_settings['Url']"
   ]
  },
  {
   "cell_type": "code",
   "execution_count": null,
   "metadata": {},
   "outputs": [],
   "source": [
    "#If you are running this in a new SageMaker Studio, run the following\n",
    "proxy_port = 6006\n",
    "app_url = f'{studio_url}/proxy/{proxy_port}/'\n",
    "HTML(f\"<a href='{app_url}'>Click to launch on New SageMaker Studio</a>\")"
   ]
  }
 ],
 "metadata": {
  "kernelspec": {
   "display_name": "Python 3 (ipykernel)",
   "language": "python",
   "name": "python3"
  },
  "language_info": {
   "codemirror_mode": {
    "name": "ipython",
    "version": 3
   },
   "file_extension": ".py",
   "mimetype": "text/x-python",
   "name": "python",
   "nbconvert_exporter": "python",
   "pygments_lexer": "ipython3",
   "version": "3.10.7"
  }
 },
 "nbformat": 4,
 "nbformat_minor": 5
}